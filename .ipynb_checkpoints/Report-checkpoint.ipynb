{
 "cells": [
  {
   "cell_type": "markdown",
   "id": "8d616c6b-dcb6-47e7-bf40-93fa4b5c598f",
   "metadata": {},
   "source": [
    "REPORT\n",
    "\n",
    "1. School Type's Impact on Academic Performance:\n",
    "    Upon data analysis, charter schools consistently demonstrate higher math and reading scores, as well as an overall passing percentage compared to district schools. This is noticeable in both the Highest-Performing Schools (By % Overall Passing) and Bottom Performing Schools (By % Overall Passing) data frames.\n",
    "\n",
    "2. Consistency in Math and Reading Scores Across Grades:\n",
    "    The Math Scores by Grade data frame reveals a small variation in average math scores across the four grade levels within each school. For example, at Bailey High School, the average math scores for grades 9 through 12 are 77.083676, 76.996772, 77.515588, and 76.492218, respectively. A similar pattern is observed in the Reading Score by Grade data frame. This suggests that student performance is more influenced by the school itself rather than grade levels.\n",
    "\n",
    "3. Impact of School Spending on Academic Performance:\n",
    "    The Scores by School Spending data (spending_summary) shows an unexpected trend related to school spending. Different from common expectations, lower Spending Ranges (Per Student) are associated with higher overall passing percentages. Specifically, schools with a Spending Range (Per Student) less than $585 has an overall passing rate of 90.369459. This contradicts the assumption that increased spending necessarily leads to higher academic outcomes.\n"
   ]
  }
 ],
 "metadata": {
  "kernelspec": {
   "display_name": "Python 3 (ipykernel)",
   "language": "python",
   "name": "python3"
  },
  "language_info": {
   "codemirror_mode": {
    "name": "ipython",
    "version": 3
   },
   "file_extension": ".py",
   "mimetype": "text/x-python",
   "name": "python",
   "nbconvert_exporter": "python",
   "pygments_lexer": "ipython3",
   "version": "3.9.18"
  }
 },
 "nbformat": 4,
 "nbformat_minor": 5
}
